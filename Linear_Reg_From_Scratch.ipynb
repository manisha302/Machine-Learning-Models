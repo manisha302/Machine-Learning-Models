{
 "cells": [
  {
   "cell_type": "code",
   "execution_count": 5,
   "metadata": {},
   "outputs": [],
   "source": [
    "import numpy as np\n",
    "import matplotlib.pyplot as plt\n",
    "import seaborn as sns\n",
    "import pandas as pd\n",
    "import os"
   ]
  },
  {
   "cell_type": "code",
   "execution_count": 6,
   "metadata": {},
   "outputs": [
    {
     "data": {
      "text/plain": [
       "'/home/mittal'"
      ]
     },
     "execution_count": 6,
     "metadata": {},
     "output_type": "execute_result"
    }
   ],
   "source": [
    "pwd"
   ]
  },
  {
   "cell_type": "code",
   "execution_count": 7,
   "metadata": {},
   "outputs": [
    {
     "name": "stdout",
     "output_type": "stream",
     "text": [
      "/home/mittal/datasets/csv\n"
     ]
    }
   ],
   "source": [
    "cd/home/mittal/datasets/csv"
   ]
  },
  {
   "cell_type": "code",
   "execution_count": 8,
   "metadata": {},
   "outputs": [],
   "source": [
    "import pandas as pd\n",
    "data=pd.read_csv(\"test.csv\")"
   ]
  },
  {
   "cell_type": "code",
   "execution_count": 9,
   "metadata": {},
   "outputs": [
    {
     "data": {
      "text/html": [
       "<div>\n",
       "<style scoped>\n",
       "    .dataframe tbody tr th:only-of-type {\n",
       "        vertical-align: middle;\n",
       "    }\n",
       "\n",
       "    .dataframe tbody tr th {\n",
       "        vertical-align: top;\n",
       "    }\n",
       "\n",
       "    .dataframe thead th {\n",
       "        text-align: right;\n",
       "    }\n",
       "</style>\n",
       "<table border=\"1\" class=\"dataframe\">\n",
       "  <thead>\n",
       "    <tr style=\"text-align: right;\">\n",
       "      <th></th>\n",
       "      <th>x</th>\n",
       "      <th>y</th>\n",
       "    </tr>\n",
       "  </thead>\n",
       "  <tbody>\n",
       "    <tr>\n",
       "      <td>0</td>\n",
       "      <td>77</td>\n",
       "      <td>79.775152</td>\n",
       "    </tr>\n",
       "    <tr>\n",
       "      <td>1</td>\n",
       "      <td>21</td>\n",
       "      <td>23.177279</td>\n",
       "    </tr>\n",
       "    <tr>\n",
       "      <td>2</td>\n",
       "      <td>22</td>\n",
       "      <td>25.609262</td>\n",
       "    </tr>\n",
       "    <tr>\n",
       "      <td>3</td>\n",
       "      <td>20</td>\n",
       "      <td>17.857388</td>\n",
       "    </tr>\n",
       "    <tr>\n",
       "      <td>4</td>\n",
       "      <td>36</td>\n",
       "      <td>41.849864</td>\n",
       "    </tr>\n",
       "    <tr>\n",
       "      <td>...</td>\n",
       "      <td>...</td>\n",
       "      <td>...</td>\n",
       "    </tr>\n",
       "    <tr>\n",
       "      <td>295</td>\n",
       "      <td>71</td>\n",
       "      <td>68.545888</td>\n",
       "    </tr>\n",
       "    <tr>\n",
       "      <td>296</td>\n",
       "      <td>46</td>\n",
       "      <td>47.334876</td>\n",
       "    </tr>\n",
       "    <tr>\n",
       "      <td>297</td>\n",
       "      <td>55</td>\n",
       "      <td>54.090637</td>\n",
       "    </tr>\n",
       "    <tr>\n",
       "      <td>298</td>\n",
       "      <td>62</td>\n",
       "      <td>63.297171</td>\n",
       "    </tr>\n",
       "    <tr>\n",
       "      <td>299</td>\n",
       "      <td>47</td>\n",
       "      <td>52.459467</td>\n",
       "    </tr>\n",
       "  </tbody>\n",
       "</table>\n",
       "<p>300 rows × 2 columns</p>\n",
       "</div>"
      ],
      "text/plain": [
       "      x          y\n",
       "0    77  79.775152\n",
       "1    21  23.177279\n",
       "2    22  25.609262\n",
       "3    20  17.857388\n",
       "4    36  41.849864\n",
       "..   ..        ...\n",
       "295  71  68.545888\n",
       "296  46  47.334876\n",
       "297  55  54.090637\n",
       "298  62  63.297171\n",
       "299  47  52.459467\n",
       "\n",
       "[300 rows x 2 columns]"
      ]
     },
     "execution_count": 9,
     "metadata": {},
     "output_type": "execute_result"
    }
   ],
   "source": [
    "data"
   ]
  },
  {
   "cell_type": "code",
   "execution_count": 10,
   "metadata": {},
   "outputs": [],
   "source": [
    "data1=pd.DataFrame(data)"
   ]
  },
  {
   "cell_type": "code",
   "execution_count": 11,
   "metadata": {},
   "outputs": [
    {
     "data": {
      "text/html": [
       "<div>\n",
       "<style scoped>\n",
       "    .dataframe tbody tr th:only-of-type {\n",
       "        vertical-align: middle;\n",
       "    }\n",
       "\n",
       "    .dataframe tbody tr th {\n",
       "        vertical-align: top;\n",
       "    }\n",
       "\n",
       "    .dataframe thead th {\n",
       "        text-align: right;\n",
       "    }\n",
       "</style>\n",
       "<table border=\"1\" class=\"dataframe\">\n",
       "  <thead>\n",
       "    <tr style=\"text-align: right;\">\n",
       "      <th></th>\n",
       "      <th>x</th>\n",
       "      <th>y</th>\n",
       "    </tr>\n",
       "  </thead>\n",
       "  <tbody>\n",
       "    <tr>\n",
       "      <td>0</td>\n",
       "      <td>77</td>\n",
       "      <td>79.775152</td>\n",
       "    </tr>\n",
       "    <tr>\n",
       "      <td>1</td>\n",
       "      <td>21</td>\n",
       "      <td>23.177279</td>\n",
       "    </tr>\n",
       "    <tr>\n",
       "      <td>2</td>\n",
       "      <td>22</td>\n",
       "      <td>25.609262</td>\n",
       "    </tr>\n",
       "    <tr>\n",
       "      <td>3</td>\n",
       "      <td>20</td>\n",
       "      <td>17.857388</td>\n",
       "    </tr>\n",
       "    <tr>\n",
       "      <td>4</td>\n",
       "      <td>36</td>\n",
       "      <td>41.849864</td>\n",
       "    </tr>\n",
       "    <tr>\n",
       "      <td>...</td>\n",
       "      <td>...</td>\n",
       "      <td>...</td>\n",
       "    </tr>\n",
       "    <tr>\n",
       "      <td>295</td>\n",
       "      <td>71</td>\n",
       "      <td>68.545888</td>\n",
       "    </tr>\n",
       "    <tr>\n",
       "      <td>296</td>\n",
       "      <td>46</td>\n",
       "      <td>47.334876</td>\n",
       "    </tr>\n",
       "    <tr>\n",
       "      <td>297</td>\n",
       "      <td>55</td>\n",
       "      <td>54.090637</td>\n",
       "    </tr>\n",
       "    <tr>\n",
       "      <td>298</td>\n",
       "      <td>62</td>\n",
       "      <td>63.297171</td>\n",
       "    </tr>\n",
       "    <tr>\n",
       "      <td>299</td>\n",
       "      <td>47</td>\n",
       "      <td>52.459467</td>\n",
       "    </tr>\n",
       "  </tbody>\n",
       "</table>\n",
       "<p>300 rows × 2 columns</p>\n",
       "</div>"
      ],
      "text/plain": [
       "      x          y\n",
       "0    77  79.775152\n",
       "1    21  23.177279\n",
       "2    22  25.609262\n",
       "3    20  17.857388\n",
       "4    36  41.849864\n",
       "..   ..        ...\n",
       "295  71  68.545888\n",
       "296  46  47.334876\n",
       "297  55  54.090637\n",
       "298  62  63.297171\n",
       "299  47  52.459467\n",
       "\n",
       "[300 rows x 2 columns]"
      ]
     },
     "execution_count": 11,
     "metadata": {},
     "output_type": "execute_result"
    }
   ],
   "source": [
    "data1"
   ]
  },
  {
   "cell_type": "code",
   "execution_count": 12,
   "metadata": {},
   "outputs": [
    {
     "data": {
      "text/plain": [
       "600"
      ]
     },
     "execution_count": 12,
     "metadata": {},
     "output_type": "execute_result"
    }
   ],
   "source": [
    "np.size(data)"
   ]
  },
  {
   "cell_type": "code",
   "execution_count": 13,
   "metadata": {},
   "outputs": [
    {
     "data": {
      "text/plain": [
       "(300, 2)"
      ]
     },
     "execution_count": 13,
     "metadata": {},
     "output_type": "execute_result"
    }
   ],
   "source": [
    "np.shape(data)"
   ]
  },
  {
   "cell_type": "code",
   "execution_count": 70,
   "metadata": {},
   "outputs": [
    {
     "data": {
      "text/plain": [
       "<matplotlib.collections.PathCollection at 0x7fdc30937b10>"
      ]
     },
     "execution_count": 70,
     "metadata": {},
     "output_type": "execute_result"
    },
    {
     "data": {
      "image/png": "[encoded data removed]",
      "text/plain": [
       "<Figure size 432x288 with 1 Axes>"
      ]
     },
     "metadata": {
      "needs_background": "light"
     },
     "output_type": "display_data"
    }
   ],
   "source": [
    "plt.scatter(data['x'],data['y'])"
   ]
  },
  {
   "cell_type": "code",
   "execution_count": 71,
   "metadata": {},
   "outputs": [],
   "source": [
    "from sklearn.model_selection import train_test_split"
   ]
  },
  {
   "cell_type": "code",
   "execution_count": 75,
   "metadata": {},
   "outputs": [],
   "source": [
    "x_train, x_test, y_train, y_test = train_test_split(x,y, test_size=0.2)"
   ]
  },
  {
   "cell_type": "code",
   "execution_count": 76,
   "metadata": {},
   "outputs": [
    {
     "data": {
      "text/plain": [
       "(107     90\n",
       " 87     100\n",
       " 59      57\n",
       " 230     37\n",
       " 210     23\n",
       "       ... \n",
       " 298     62\n",
       " 85      39\n",
       " 186     54\n",
       " 245     31\n",
       " 63      61\n",
       " Name: x, Length: 240, dtype: int64, 167    66\n",
       " 242    54\n",
       " 81     27\n",
       " 188    27\n",
       " 174     1\n",
       " 53     31\n",
       " 24     97\n",
       " 88     59\n",
       " 102    19\n",
       " 78     52\n",
       " 121    96\n",
       " 57     64\n",
       " 223    42\n",
       " 202    74\n",
       " 295    71\n",
       " 159     7\n",
       " 46     70\n",
       " 109     0\n",
       " 80     68\n",
       " 43     76\n",
       " 96     21\n",
       " 194    61\n",
       " 116    17\n",
       " 124    41\n",
       " 115    24\n",
       " 135    30\n",
       " 67     50\n",
       " 153    84\n",
       " 145    63\n",
       " 38     28\n",
       " 191    73\n",
       " 132    12\n",
       " 92     63\n",
       " 105    12\n",
       " 217    95\n",
       " 271     8\n",
       " 181    97\n",
       " 19     69\n",
       " 272    56\n",
       " 239    28\n",
       " 175    32\n",
       " 286    16\n",
       " 185     4\n",
       " 143     9\n",
       " 164    49\n",
       " 15     15\n",
       " 278    58\n",
       " 69     13\n",
       " 4      36\n",
       " 108    89\n",
       " 161    46\n",
       " 215    55\n",
       " 35     47\n",
       " 25     58\n",
       " 192    77\n",
       " 61     72\n",
       " 268    55\n",
       " 40     91\n",
       " 95     14\n",
       " 168    21\n",
       " Name: x, dtype: int64, 107    48.503418\n",
       " 87     47.811814\n",
       " 59     50.785709\n",
       " 230    52.168916\n",
       " 210    53.137161\n",
       "          ...    \n",
       " 298    50.439907\n",
       " 85     52.030595\n",
       " 186    50.993190\n",
       " 245    52.583878\n",
       " 63     50.509068\n",
       " Name: x, Length: 240, dtype: float64, 167    50.163266\n",
       " 242    50.993190\n",
       " 81     52.860519\n",
       " 188    52.860519\n",
       " 174    54.658688\n",
       " 53     52.583878\n",
       " 24     48.019295\n",
       " 88     50.647388\n",
       " 102    53.413802\n",
       " 78     51.131511\n",
       " 121    48.088456\n",
       " 57     50.301586\n",
       " 223    51.823114\n",
       " 202    49.609983\n",
       " 295    49.817464\n",
       " 159    54.243726\n",
       " 46     49.886624\n",
       " 109    54.727848\n",
       " 80     50.024945\n",
       " 43     49.471662\n",
       " 96     53.275481\n",
       " 194    50.509068\n",
       " 116    53.552123\n",
       " 124    51.892274\n",
       " 115    53.068000\n",
       " 135    52.653038\n",
       " 67     51.269831\n",
       " 153    48.918380\n",
       " 145    50.370747\n",
       " 38     52.791359\n",
       " 191    49.679143\n",
       " 132    53.897924\n",
       " 92     50.370747\n",
       " 105    53.897924\n",
       " 217    48.157616\n",
       " 271    54.174566\n",
       " 181    48.019295\n",
       " 19     49.955785\n",
       " 272    50.854869\n",
       " 239    52.791359\n",
       " 175    52.514717\n",
       " 286    53.621283\n",
       " 185    54.451207\n",
       " 143    54.105405\n",
       " 164    51.338992\n",
       " 15     53.690443\n",
       " 278    50.716549\n",
       " 69     53.828764\n",
       " 4      52.238076\n",
       " 108    48.572578\n",
       " 161    51.546473\n",
       " 215    50.924030\n",
       " 35     51.477312\n",
       " 25     50.716549\n",
       " 192    49.402502\n",
       " 61     49.748304\n",
       " 268    50.924030\n",
       " 40     48.434257\n",
       " 95     53.759604\n",
       " 168    53.275481\n",
       " Name: x, dtype: float64)"
      ]
     },
     "execution_count": 76,
     "metadata": {},
     "output_type": "execute_result"
    }
   ],
   "source": [
    "x_train,x_test,y_train,y_test"
   ]
  },
  {
   "cell_type": "code",
   "execution_count": 77,
   "metadata": {},
   "outputs": [
    {
     "name": "stdout",
     "output_type": "stream",
     "text": [
      "107     90\n",
      "87     100\n",
      "59      57\n",
      "230     37\n",
      "210     23\n",
      "      ... \n",
      "298     62\n",
      "85      39\n",
      "186     54\n",
      "245     31\n",
      "63      61\n",
      "Name: x, Length: 240, dtype: int64\n"
     ]
    }
   ],
   "source": [
    "print(x_train)"
   ]
  },
  {
   "cell_type": "code",
   "execution_count": 78,
   "metadata": {},
   "outputs": [
    {
     "name": "stdout",
     "output_type": "stream",
     "text": [
      "107    48.503418\n",
      "87     47.811814\n",
      "59     50.785709\n",
      "230    52.168916\n",
      "210    53.137161\n",
      "         ...    \n",
      "298    50.439907\n",
      "85     52.030595\n",
      "186    50.993190\n",
      "245    52.583878\n",
      "63     50.509068\n",
      "Name: x, Length: 240, dtype: float64\n"
     ]
    }
   ],
   "source": [
    "print(y_train)"
   ]
  },
  {
   "cell_type": "code",
   "execution_count": 79,
   "metadata": {},
   "outputs": [
    {
     "name": "stdout",
     "output_type": "stream",
     "text": [
      "167    66\n",
      "242    54\n",
      "81     27\n",
      "188    27\n",
      "174     1\n",
      "53     31\n",
      "24     97\n",
      "88     59\n",
      "102    19\n",
      "78     52\n",
      "121    96\n",
      "57     64\n",
      "223    42\n",
      "202    74\n",
      "295    71\n",
      "159     7\n",
      "46     70\n",
      "109     0\n",
      "80     68\n",
      "43     76\n",
      "96     21\n",
      "194    61\n",
      "116    17\n",
      "124    41\n",
      "115    24\n",
      "135    30\n",
      "67     50\n",
      "153    84\n",
      "145    63\n",
      "38     28\n",
      "191    73\n",
      "132    12\n",
      "92     63\n",
      "105    12\n",
      "217    95\n",
      "271     8\n",
      "181    97\n",
      "19     69\n",
      "272    56\n",
      "239    28\n",
      "175    32\n",
      "286    16\n",
      "185     4\n",
      "143     9\n",
      "164    49\n",
      "15     15\n",
      "278    58\n",
      "69     13\n",
      "4      36\n",
      "108    89\n",
      "161    46\n",
      "215    55\n",
      "35     47\n",
      "25     58\n",
      "192    77\n",
      "61     72\n",
      "268    55\n",
      "40     91\n",
      "95     14\n",
      "168    21\n",
      "Name: x, dtype: int64\n"
     ]
    }
   ],
   "source": [
    "print(x_test)"
   ]
  },
  {
   "cell_type": "code",
   "execution_count": 80,
   "metadata": {},
   "outputs": [
    {
     "name": "stdout",
     "output_type": "stream",
     "text": [
      "167    50.163266\n",
      "242    50.993190\n",
      "81     52.860519\n",
      "188    52.860519\n",
      "174    54.658688\n",
      "53     52.583878\n",
      "24     48.019295\n",
      "88     50.647388\n",
      "102    53.413802\n",
      "78     51.131511\n",
      "121    48.088456\n",
      "57     50.301586\n",
      "223    51.823114\n",
      "202    49.609983\n",
      "295    49.817464\n",
      "159    54.243726\n",
      "46     49.886624\n",
      "109    54.727848\n",
      "80     50.024945\n",
      "43     49.471662\n",
      "96     53.275481\n",
      "194    50.509068\n",
      "116    53.552123\n",
      "124    51.892274\n",
      "115    53.068000\n",
      "135    52.653038\n",
      "67     51.269831\n",
      "153    48.918380\n",
      "145    50.370747\n",
      "38     52.791359\n",
      "191    49.679143\n",
      "132    53.897924\n",
      "92     50.370747\n",
      "105    53.897924\n",
      "217    48.157616\n",
      "271    54.174566\n",
      "181    48.019295\n",
      "19     49.955785\n",
      "272    50.854869\n",
      "239    52.791359\n",
      "175    52.514717\n",
      "286    53.621283\n",
      "185    54.451207\n",
      "143    54.105405\n",
      "164    51.338992\n",
      "15     53.690443\n",
      "278    50.716549\n",
      "69     53.828764\n",
      "4      52.238076\n",
      "108    48.572578\n",
      "161    51.546473\n",
      "215    50.924030\n",
      "35     51.477312\n",
      "25     50.716549\n",
      "192    49.402502\n",
      "61     49.748304\n",
      "268    50.924030\n",
      "40     48.434257\n",
      "95     53.759604\n",
      "168    53.275481\n",
      "Name: x, dtype: float64\n"
     ]
    }
   ],
   "source": [
    "print(y_test)"
   ]
  },
  {
   "cell_type": "code",
   "execution_count": 81,
   "metadata": {},
   "outputs": [
    {
     "data": {
      "text/plain": [
       "240"
      ]
     },
     "execution_count": 81,
     "metadata": {},
     "output_type": "execute_result"
    }
   ],
   "source": [
    "n=np.size(x_train)\n",
    "n"
   ]
  },
  {
   "cell_type": "code",
   "execution_count": 85,
   "metadata": {},
   "outputs": [
    {
     "data": {
      "text/plain": [
       "-13513.96511204557"
      ]
     },
     "execution_count": 85,
     "metadata": {},
     "output_type": "execute_result"
    }
   ],
   "source": [
    "sd_xy=np.sum((x_train-np.mean(x_train))*(y_train-np.mean(y_train)))\n",
    "sd_xy"
   ]
  },
  {
   "cell_type": "code",
   "execution_count": 88,
   "metadata": {},
   "outputs": [
    {
     "data": {
      "text/plain": [
       "-2152335.0"
      ]
     },
     "execution_count": 88,
     "metadata": {},
     "output_type": "execute_result"
    }
   ],
   "source": [
    "sd_xx=np.sum(x_train*x_train-n*np.mean(x_train))\n",
    "sd_xx"
   ]
  },
  {
   "cell_type": "code",
   "execution_count": 89,
   "metadata": {},
   "outputs": [
    {
     "data": {
      "text/plain": [
       "0.0062787461580309616"
      ]
     },
     "execution_count": 89,
     "metadata": {},
     "output_type": "execute_result"
    }
   ],
   "source": [
    "c0=sd_xy/sd_xx\n",
    "c0"
   ]
  },
  {
   "cell_type": "code",
   "execution_count": 91,
   "metadata": {},
   "outputs": [
    {
     "data": {
      "text/plain": [
       "50.8015581762302"
      ]
     },
     "execution_count": 91,
     "metadata": {},
     "output_type": "execute_result"
    }
   ],
   "source": [
    "c1=np.mean(y_train)-c0*np.mean(x_train)\n",
    "c1"
   ]
  },
  {
   "cell_type": "code",
   "execution_count": 92,
   "metadata": {},
   "outputs": [
    {
     "data": {
      "text/plain": [
       "60"
      ]
     },
     "execution_count": 92,
     "metadata": {},
     "output_type": "execute_result"
    }
   ],
   "source": [
    "np.size(x_test)"
   ]
  },
  {
   "cell_type": "code",
   "execution_count": 97,
   "metadata": {},
   "outputs": [
    {
     "data": {
      "text/plain": [
       "167    51.215955\n",
       "242    51.140610\n",
       "81     50.971084\n",
       "188    50.971084\n",
       "174    50.807837\n",
       "53     50.996199\n",
       "24     51.410597\n",
       "88     51.172004\n",
       "102    50.920854\n",
       "78     51.128053\n",
       "121    51.404318\n",
       "57     51.203398\n",
       "223    51.065266\n",
       "202    51.266185\n",
       "295    51.247349\n",
       "159    50.845509\n",
       "46     51.241070\n",
       "109    50.801558\n",
       "80     51.228513\n",
       "43     51.278743\n",
       "96     50.933412\n",
       "194    51.184562\n",
       "116    50.908297\n",
       "124    51.058987\n",
       "115    50.952248\n",
       "135    50.989921\n",
       "67     51.115495\n",
       "153    51.328973\n",
       "145    51.197119\n",
       "38     50.977363\n",
       "191    51.259907\n",
       "132    50.876903\n",
       "92     51.197119\n",
       "105    50.876903\n",
       "217    51.398039\n",
       "271    50.851788\n",
       "181    51.410597\n",
       "19     51.234792\n",
       "272    51.153168\n",
       "239    50.977363\n",
       "175    51.002478\n",
       "286    50.902018\n",
       "185    50.826673\n",
       "143    50.858067\n",
       "164    51.109217\n",
       "15     50.895739\n",
       "278    51.165725\n",
       "69     50.883182\n",
       "4      51.027593\n",
       "108    51.360367\n",
       "161    51.090380\n",
       "215    51.146889\n",
       "35     51.096659\n",
       "25     51.165725\n",
       "192    51.285022\n",
       "61     51.253628\n",
       "268    51.146889\n",
       "40     51.372924\n",
       "95     50.889461\n",
       "168    50.933412\n",
       "Name: x, dtype: float64"
      ]
     },
     "execution_count": 97,
     "metadata": {},
     "output_type": "execute_result"
    }
   ],
   "source": [
    "y_p=c1+c0*(x_test)\n",
    "y_p"
   ]
  },
  {
   "cell_type": "code",
   "execution_count": 99,
   "metadata": {},
   "outputs": [
    {
     "data": {
      "image/png": "[encoded data removed]",
      "text/plain": [
       "<Figure size 432x288 with 1 Axes>"
      ]
     },
     "metadata": {
      "needs_background": "light"
     },
     "output_type": "display_data"
    }
   ],
   "source": [
    "plt.scatter(x_test,y_p)\n",
    "plt.show()"
   ]
  },
  {
   "cell_type": "code",
   "execution_count": 105,
   "metadata": {},
   "outputs": [
    {
     "data": {
      "text/plain": [
       "1.0658065950014262"
      ]
     },
     "execution_count": 105,
     "metadata": {},
     "output_type": "execute_result"
    }
   ],
   "source": [
    "error=np.sum((y-y_p)**2)\n",
    "error\n",
    "mse=np.sqrt(error/240)\n",
    "mse"
   ]
  },
  {
   "cell_type": "code",
   "execution_count": null,
   "metadata": {},
   "outputs": [],
   "source": []
  }
 ],
 "metadata": {
  "kernelspec": {
   "display_name": "Python 3",
   "language": "python",
   "name": "python3"
  },
  "language_info": {
   "codemirror_mode": {
    "name": "ipython",
    "version": 3
   },
   "file_extension": ".py",
   "mimetype": "text/x-python",
   "name": "python",
   "nbconvert_exporter": "python",
   "pygments_lexer": "ipython3",
   "version": "3.7.4"
  }
 },
 "nbformat": 4,
 "nbformat_minor": 2
}
